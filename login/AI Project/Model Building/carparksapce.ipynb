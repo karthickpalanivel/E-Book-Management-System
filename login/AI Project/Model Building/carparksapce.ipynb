{
 "cells": [
  {
   "cell_type": "code",
   "execution_count": null,
   "id": "c0c260e4",
   "metadata": {
    "is_executing": true,
    "ExecuteTime": {
     "start_time": "2023-05-10T08:44:33.936695Z"
    }
   },
   "outputs": [],
   "source": [
    "import cv2\n",
    "import pickle\n",
    "\n",
    "\n",
    "width, height = 107, 48\n",
    "\n",
    "try:\n",
    "    with open('CarParkPos', 'rb')as f:\n",
    "     posList = pickle.load(f)\n",
    "except:\n",
    "  posList = []\n",
    "\n",
    "\n",
    "\n",
    "def mouseClick(events, x, y, flags, params):\n",
    "  if events == cv2.EVENT_LBUTTONDOWN:\n",
    "        posList.append((x, y))\n",
    "  if events == cv2.EVENT_RBUTTONDOWN:\n",
    "        for i, pos in enumerate(posList):\n",
    "            x1, y1 = pos\n",
    "            if x1 < x < x1 + width and y1 < y < y1 + height:\n",
    "                posList.pop(i)\n",
    "                \n",
    "  with open('CarParkPos', 'wb')as f:\n",
    "    pickle.dump(posList, f)\n",
    "              \n",
    "\n",
    "        \n",
    "while True:\n",
    "    img = cv2.imread(\"C:\\\\Users\\\\ADMIN\\\\Desktop\\\\AI Project\\\\data\\\\carParkImg.png\") \n",
    "    for pos in posList:\n",
    "       cv2.rectangle(img, pos, (pos[0] + width, pos[1] + height),(255, 0, 255), 2)\n",
    "    \n",
    "    cv2.imshow(\"image\",img)\n",
    "    cv2.setMouseCallback(\"image\", mouseClick)\n",
    "    cv2.waitKey(1)"
   ]
  },
  {
   "cell_type": "code",
   "execution_count": 2,
   "id": "90527b90",
   "metadata": {},
   "outputs": [
    {
     "ename": "FileNotFoundError",
     "evalue": "[Errno 2] No such file or directory: 'polygons'",
     "output_type": "error",
     "traceback": [
      "\u001B[1;31m---------------------------------------------------------------------------\u001B[0m",
      "\u001B[1;31mFileNotFoundError\u001B[0m                         Traceback (most recent call last)",
      "Cell \u001B[1;32mIn[2], line 8\u001B[0m\n\u001B[0;32m      6\u001B[0m cap \u001B[38;5;241m=\u001B[39m cv2\u001B[38;5;241m.\u001B[39mVideoCapture(\u001B[38;5;124m'\u001B[39m\u001B[38;5;124mcarPark.mp4\u001B[39m\u001B[38;5;124m'\u001B[39m)\n\u001B[0;32m      7\u001B[0m width, height \u001B[38;5;241m=\u001B[39m \u001B[38;5;241m103\u001B[39m, \u001B[38;5;241m43\u001B[39m\n\u001B[1;32m----> 8\u001B[0m \u001B[38;5;28;01mwith\u001B[39;00m \u001B[38;5;28;43mopen\u001B[39;49m\u001B[43m(\u001B[49m\u001B[38;5;124;43m'\u001B[39;49m\u001B[38;5;124;43mpolygons\u001B[39;49m\u001B[38;5;124;43m'\u001B[39;49m\u001B[43m,\u001B[49m\u001B[43m \u001B[49m\u001B[38;5;124;43m'\u001B[39;49m\u001B[38;5;124;43mrb\u001B[39;49m\u001B[38;5;124;43m'\u001B[39;49m\u001B[43m)\u001B[49m \u001B[38;5;28;01mas\u001B[39;00m f:\n\u001B[0;32m      9\u001B[0m     posList \u001B[38;5;241m=\u001B[39m pickle\u001B[38;5;241m.\u001B[39mload(f)\n\u001B[0;32m     12\u001B[0m \u001B[38;5;28;01mdef\u001B[39;00m \u001B[38;5;21mempty\u001B[39m(a):\n",
      "File \u001B[1;32mD:\\anaconda\\lib\\site-packages\\IPython\\core\\interactiveshell.py:282\u001B[0m, in \u001B[0;36m_modified_open\u001B[1;34m(file, *args, **kwargs)\u001B[0m\n\u001B[0;32m    275\u001B[0m \u001B[38;5;28;01mif\u001B[39;00m file \u001B[38;5;129;01min\u001B[39;00m {\u001B[38;5;241m0\u001B[39m, \u001B[38;5;241m1\u001B[39m, \u001B[38;5;241m2\u001B[39m}:\n\u001B[0;32m    276\u001B[0m     \u001B[38;5;28;01mraise\u001B[39;00m \u001B[38;5;167;01mValueError\u001B[39;00m(\n\u001B[0;32m    277\u001B[0m         \u001B[38;5;124mf\u001B[39m\u001B[38;5;124m\"\u001B[39m\u001B[38;5;124mIPython won\u001B[39m\u001B[38;5;124m'\u001B[39m\u001B[38;5;124mt let you open fd=\u001B[39m\u001B[38;5;132;01m{\u001B[39;00mfile\u001B[38;5;132;01m}\u001B[39;00m\u001B[38;5;124m by default \u001B[39m\u001B[38;5;124m\"\u001B[39m\n\u001B[0;32m    278\u001B[0m         \u001B[38;5;124m\"\u001B[39m\u001B[38;5;124mas it is likely to crash IPython. If you know what you are doing, \u001B[39m\u001B[38;5;124m\"\u001B[39m\n\u001B[0;32m    279\u001B[0m         \u001B[38;5;124m\"\u001B[39m\u001B[38;5;124myou can use builtins\u001B[39m\u001B[38;5;124m'\u001B[39m\u001B[38;5;124m open.\u001B[39m\u001B[38;5;124m\"\u001B[39m\n\u001B[0;32m    280\u001B[0m     )\n\u001B[1;32m--> 282\u001B[0m \u001B[38;5;28;01mreturn\u001B[39;00m io_open(file, \u001B[38;5;241m*\u001B[39margs, \u001B[38;5;241m*\u001B[39m\u001B[38;5;241m*\u001B[39mkwargs)\n",
      "\u001B[1;31mFileNotFoundError\u001B[0m: [Errno 2] No such file or directory: 'polygons'"
     ]
    }
   ],
   "source": []
  },
  {
   "cell_type": "code",
   "execution_count": null,
   "id": "05f9b685",
   "metadata": {},
   "outputs": [],
   "source": []
  }
 ],
 "metadata": {
  "kernelspec": {
   "display_name": "Python 3 (ipykernel)",
   "language": "python",
   "name": "python3"
  },
  "language_info": {
   "codemirror_mode": {
    "name": "ipython",
    "version": 3
   },
   "file_extension": ".py",
   "mimetype": "text/x-python",
   "name": "python",
   "nbconvert_exporter": "python",
   "pygments_lexer": "ipython3",
   "version": "3.10.9"
  }
 },
 "nbformat": 4,
 "nbformat_minor": 5
}
