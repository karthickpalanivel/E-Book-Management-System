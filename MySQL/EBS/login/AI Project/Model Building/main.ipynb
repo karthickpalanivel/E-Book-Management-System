{
 "cells": [
  {
   "cell_type": "code",
   "execution_count": 1,
   "id": "8a38209f",
   "metadata": {
    "ExecuteTime": {
     "end_time": "2023-05-11T04:09:32.927480900Z",
     "start_time": "2023-05-11T04:08:50.118961500Z"
    }
   },
   "outputs": [
    {
     "name": "stdout",
     "output_type": "stream",
     "text": [
      "Requirement already satisfied: cvzone in d:\\anaconda\\lib\\site-packages (1.5.6)Note: you may need to restart the kernel to use updated packages.\n",
      "\n",
      "Requirement already satisfied: opencv-python in d:\\anaconda\\lib\\site-packages (from cvzone) (4.7.0.72)\n",
      "Requirement already satisfied: numpy in d:\\anaconda\\lib\\site-packages (from cvzone) (1.23.5)\n"
     ]
    }
   ],
   "source": [
    "pip install cvzone"
   ]
  },
  {
   "cell_type": "code",
   "execution_count": null,
   "id": "86d08e43",
   "metadata": {
    "is_executing": true,
    "ExecuteTime": {
     "start_time": "2023-05-11T04:11:40.494201400Z"
    }
   },
   "outputs": [],
   "source": [
    "import cv2\n",
    "import pickle\n",
    "import cvzone\n",
    "import numpy as np\n",
    " \n",
    "# Video feed\n",
    "cap = cv2.VideoCapture('C:\\\\Users\\\\ADMIN\\\\Desktop\\\\AI Project\\\\data\\\\carParkingInput.mp4')\n",
    " \n",
    "with open('CarParkPos', 'rb') as f:\n",
    "    posList = pickle.load(f)\n",
    " \n",
    "width, height = 107, 48\n",
    " \n",
    " \n",
    "def checkParkingSpace(imgPro):\n",
    "    spaceCounter = 0\n",
    " \n",
    "    for pos in posList:\n",
    "        x, y = pos\n",
    " \n",
    "        imgCrop = imgPro[y:y + height, x:x + width]\n",
    "        # cv2.imshow(str(x * y), imgCrop)\n",
    "        count = cv2.countNonZero(imgCrop)\n",
    " \n",
    " \n",
    "        if count < 900:\n",
    "            color = (0, 255, 0)\n",
    "            thickness = 5\n",
    "            spaceCounter += 1\n",
    "        else:\n",
    "            color = (0, 0, 255)\n",
    "            thickness = 2\n",
    " \n",
    "        cv2.rectangle(img, pos, (pos[0] + width, pos[1] + height), color, thickness)\n",
    "        cvzone.putTextRect(img, str(count), (x, y + height - 3), scale=1,\n",
    "                           thickness=2, offset=0, colorR=color)\n",
    " \n",
    "    cvzone.putTextRect(img, f'Free: {spaceCounter}/{len(posList)}', (100, 50), scale=3,\n",
    "                           thickness=5, offset=20, colorR=(0,200,0))\n",
    "while True:\n",
    " \n",
    "    if cap.get(cv2.CAP_PROP_POS_FRAMES) == cap.get(cv2.CAP_PROP_FRAME_COUNT):\n",
    "        cap.set(cv2.CAP_PROP_POS_FRAMES, 0)\n",
    "    success, img = cap.read()\n",
    "    imgGray = cv2.cvtColor(img, cv2.COLOR_BGR2GRAY)\n",
    "    imgBlur = cv2.GaussianBlur(imgGray, (3, 3), 1)\n",
    "    imgThreshold = cv2.adaptiveThreshold(imgBlur, 255, cv2.ADAPTIVE_THRESH_GAUSSIAN_C,\n",
    "                                         cv2.THRESH_BINARY_INV, 25, 16)\n",
    "    imgMedian = cv2.medianBlur(imgThreshold, 5)\n",
    "    kernel = np.ones((3, 3), np.uint8)\n",
    "    imgDilate = cv2.dilate(imgMedian, kernel, iterations=1)\n",
    " \n",
    "    checkParkingSpace(imgDilate)\n",
    "    cv2.imshow(\"Image\", img)\n",
    "    # cv2.imshow(\"ImageBlur\", imgBlur)\n",
    "    # cv2.imshow(\"ImageThres\", imgMedian)\n",
    "    cv2.waitKey(10)"
   ]
  },
  {
   "cell_type": "code",
   "execution_count": 1,
   "id": "33608d70",
   "metadata": {},
   "outputs": [
    {
     "ename": "error",
     "evalue": "OpenCV(4.7.0) D:\\a\\opencv-python\\opencv-python\\opencv\\modules\\highgui\\src\\window_w32.cpp:2576: error: (-27:Null pointer) NULL window: 'Vals' in function 'cvGetTrackbarPos'\n",
     "output_type": "error",
     "traceback": [
      "\u001B[1;31m---------------------------------------------------------------------------\u001B[0m",
      "\u001B[1;31merror\u001B[0m                                     Traceback (most recent call last)",
      "Cell \u001B[1;32mIn[1], line 61\u001B[0m\n\u001B[0;32m     58\u001B[0m imgBlur \u001B[38;5;241m=\u001B[39m cv2\u001B[38;5;241m.\u001B[39mGaussianBlur(imgGray, (\u001B[38;5;241m3\u001B[39m, \u001B[38;5;241m3\u001B[39m), \u001B[38;5;241m1\u001B[39m)\n\u001B[0;32m     59\u001B[0m \u001B[38;5;66;03m# ret, imgThres = cv2.threshold(imgBlur, 150, 255, cv2.THRESH_BINARY)\u001B[39;00m\n\u001B[1;32m---> 61\u001B[0m val1 \u001B[38;5;241m=\u001B[39m \u001B[43mcv2\u001B[49m\u001B[38;5;241;43m.\u001B[39;49m\u001B[43mgetTrackbarPos\u001B[49m\u001B[43m(\u001B[49m\u001B[38;5;124;43m\"\u001B[39;49m\u001B[38;5;124;43mVal1\u001B[39;49m\u001B[38;5;124;43m\"\u001B[39;49m\u001B[43m,\u001B[49m\u001B[43m \u001B[49m\u001B[38;5;124;43m\"\u001B[39;49m\u001B[38;5;124;43mVals\u001B[39;49m\u001B[38;5;124;43m\"\u001B[39;49m\u001B[43m)\u001B[49m\n\u001B[0;32m     62\u001B[0m val2 \u001B[38;5;241m=\u001B[39m cv2\u001B[38;5;241m.\u001B[39mgetTrackbarPos(\u001B[38;5;124m\"\u001B[39m\u001B[38;5;124mVal2\u001B[39m\u001B[38;5;124m\"\u001B[39m, \u001B[38;5;124m\"\u001B[39m\u001B[38;5;124mVals\u001B[39m\u001B[38;5;124m\"\u001B[39m)\n\u001B[0;32m     63\u001B[0m val3 \u001B[38;5;241m=\u001B[39m cv2\u001B[38;5;241m.\u001B[39mgetTrackbarPos(\u001B[38;5;124m\"\u001B[39m\u001B[38;5;124mVal3\u001B[39m\u001B[38;5;124m\"\u001B[39m, \u001B[38;5;124m\"\u001B[39m\u001B[38;5;124mVals\u001B[39m\u001B[38;5;124m\"\u001B[39m)\n",
      "\u001B[1;31merror\u001B[0m: OpenCV(4.7.0) D:\\a\\opencv-python\\opencv-python\\opencv\\modules\\highgui\\src\\window_w32.cpp:2576: error: (-27:Null pointer) NULL window: 'Vals' in function 'cvGetTrackbarPos'\n"
     ]
    }
   ],
   "source": []
  },
  {
   "cell_type": "code",
   "execution_count": null,
   "id": "59229e9b",
   "metadata": {},
   "outputs": [],
   "source": []
  }
 ],
 "metadata": {
  "kernelspec": {
   "display_name": "Python 3 (ipykernel)",
   "language": "python",
   "name": "python3"
  },
  "language_info": {
   "codemirror_mode": {
    "name": "ipython",
    "version": 3
   },
   "file_extension": ".py",
   "mimetype": "text/x-python",
   "name": "python",
   "nbconvert_exporter": "python",
   "pygments_lexer": "ipython3",
   "version": "3.10.9"
  }
 },
 "nbformat": 4,
 "nbformat_minor": 5
}
